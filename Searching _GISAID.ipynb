{
 "cells": [
  {
   "cell_type": "raw",
   "id": "c59a2168",
   "metadata": {},
   "source": [
    "Exploring the N concent and SNPs in "
   ]
  },
  {
   "cell_type": "code",
   "execution_count": 4,
   "id": "5a06dfc3",
   "metadata": {},
   "outputs": [],
   "source": [
    "import pandas as pd\n",
    "des_pango=pd.read_csv('des_pangolearn_report.csv')\n",
    "des_usher=pd.read_csv('des_usher_report.csv')\n",
    "g_pango=pd.read_csv('gisaid_pangolearn_report.csv')\n",
    "g_usher=pd.read_csv('gisaid_usher_report.csv')\n",
    "des_list=pd.read_csv('des_lineages.csv')"
   ]
  },
  {
   "cell_type": "code",
   "execution_count": 5,
   "id": "b0f3a06c",
   "metadata": {},
   "outputs": [],
   "source": [
    "g_compare=pd.concat([g_pango['taxon'],g_pango['lineage'],g_usher['lineage']],axis=1,\n",
    "                    keys=['taxon','pango_lineage','usher_lineage'])"
   ]
  },
  {
   "cell_type": "code",
   "execution_count": 32,
   "id": "83b920af",
   "metadata": {},
   "outputs": [],
   "source": [
    "g_disagree=g_compare.loc[g_compare['pango_lineage']!=g_compare['usher_lineage']]\n",
    "\n",
    "comparedf=g_disagree.loc[g_disagree['usher_lineage'].str.contains('AY' )]\n",
    "\n",
    "comparedf=comparedf.append(g_disagree.loc[g_disagree['usher_lineage'].str.contains(\"B.1.617\")])\n",
    "comparelist=comparedf['taxon'].tolist()\n",
    "\n",
    "comparelist.append('India/MH-NCCS-P1162000180788/2021')\n",
    "deltaref=set('India/MH-NCCS-P1162000180788/2021')\n",
    "\n"
   ]
  },
  {
   "cell_type": "markdown",
   "id": "9bf2aa23",
   "metadata": {},
   "source": [
    "Draw delta sequences from the disagree samples"
   ]
  },
  {
   "cell_type": "code",
   "execution_count": 1,
   "id": "d629d412",
   "metadata": {},
   "outputs": [],
   "source": [
    "import gzip\n",
    "from Bio import SeqIO"
   ]
  },
  {
   "cell_type": "code",
   "execution_count": 10,
   "id": "25e6f8f5",
   "metadata": {},
   "outputs": [],
   "source": [
    "def draw_delta_sequence_from(dataset,outfile):\n",
    "\n",
    "    dataset=set(dataset)\n",
    "    out_handle = open(outfile,'w')\n",
    "    with gzip.open(\"gisaid_file.fa.gz\", \"rt\") as handle:\n",
    "        for record in SeqIO.parse(handle, \"fasta\"):\n",
    "            if record.id in dataset:\n",
    "                SeqIO.write(record, out_handle, \"fasta\")\n",
    "                dataset.remove(record.id)"
   ]
  },
  {
   "cell_type": "code",
   "execution_count": 20,
   "id": "6e276e3e",
   "metadata": {},
   "outputs": [],
   "source": [
    "import gzip\n",
    "draw_delta_sequence_from(comparelist,'delta.fasta')"
   ]
  },
  {
   "cell_type": "code",
   "execution_count": 35,
   "id": "a98475a4",
   "metadata": {},
   "outputs": [],
   "source": [
    "out_handle = open('delta_ref.fasta','w')\n",
    "with gzip.open(\"bigfile.fa.gz\", \"rt\") as handle:\n",
    "    for record in SeqIO.parse(handle, \"fasta\"):\n",
    "        if record.id in deltaref:\n",
    "            SeqIO.write(record, out_handle, \"fasta\")\n",
    "\n",
    "#This does not work!!!!"
   ]
  },
  {
   "cell_type": "markdown",
   "id": "410e4e9c",
   "metadata": {},
   "source": [
    "But we still managed to draw out the B1617 india sequence, aligned it with the delta errors sequences. Ran go fatsa on it! And then we have the updown file!"
   ]
  },
  {
   "cell_type": "code",
   "execution_count": null,
   "id": "db81d49d",
   "metadata": {},
   "outputs": [],
   "source": []
  }
 ],
 "metadata": {
  "kernelspec": {
   "display_name": "Python 3 (ipykernel)",
   "language": "python",
   "name": "python3"
  },
  "language_info": {
   "codemirror_mode": {
    "name": "ipython",
    "version": 3
   },
   "file_extension": ".py",
   "mimetype": "text/x-python",
   "name": "python",
   "nbconvert_exporter": "python",
   "pygments_lexer": "ipython3",
   "version": "3.9.5"
  }
 },
 "nbformat": 4,
 "nbformat_minor": 5
}
