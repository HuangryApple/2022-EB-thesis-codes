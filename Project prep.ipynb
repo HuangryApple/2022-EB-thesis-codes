{
 "cells": [
  {
   "cell_type": "code",
   "execution_count": 12,
   "id": "13e89606",
   "metadata": {},
   "outputs": [
    {
     "name": "stdout",
     "output_type": "stream",
     "text": [
      "Python 3.9.5\n",
      "usage: pangolin <query> [options]\n",
      "\n",
      "pangolin: Phylogenetic Assignment of Named Global Outbreak LINeages\n",
      "\n",
      "positional arguments:\n",
      "  query\n",
      "\n",
      "optional arguments:\n",
      "  -h, --help            show this help message and exit\n",
      "  -o OUTDIR, --outdir OUTDIR\n",
      "                        Output directory. Default: current working directory\n",
      "  --outfile OUTFILE     Optional output file name. Default: lineage_report.csv\n",
      "  -d DATA, --data DATA  Data directory minimally containing a fasta alignment\n",
      "                        and guide tree\n",
      "  -n, --dry-run         Go through the motions but don't actually run\n",
      "  -f, --force           Overwrite all output\n",
      "  --tempdir TEMPDIR     Specify where you want the temp stuff to go. Default:\n",
      "                        $TMPDIR\n",
      "  --max-ambig MAXAMBIG  Maximum proportion of Ns allowed for pangolin to\n",
      "                        attempt assignment. Default: 0.5\n",
      "  --min-length MINLEN   Minimum query length allowed for pangolin to attempt\n",
      "                        assignment. Default: 10000\n",
      "  --panGUIlin           Run web-app version of pangolin\n",
      "  --write-tree          Output a phylogeny for each query sequence placed in\n",
      "                        the guide tree\n",
      "  -t THREADS, --threads THREADS\n",
      "                        Number of threads\n",
      "  -p, --include-putative\n",
      "                        Include the bleeding edge lineage definitions in\n",
      "                        assignment\n",
      "  --verbose             Print lots of stuff to screen\n",
      "  -v, --version         show program's version number and exit\n",
      "  -lv, --lineages-version\n",
      "                        show lineages's version number and exit\n",
      "/Users/pancakemean/Y4 local\n"
     ]
    }
   ],
   "source": [
    "%%bash\n",
    "python --version\n",
    "pangolin -h\n",
    "\n",
    "\n",
    "#in bash environment, install pangolin (which includes usher!)"
   ]
  },
  {
   "cell_type": "code",
   "execution_count": 1,
   "id": "b89b0af7",
   "metadata": {},
   "outputs": [],
   "source": [
    "#import all the packages we need for this session\n",
    "import pandas\n",
    "import random\n",
    "from Bio import SeqIO\n",
    "from random import sample"
   ]
  },
  {
   "cell_type": "code",
   "execution_count": 57,
   "id": "07bebd3c",
   "metadata": {},
   "outputs": [
    {
     "data": {
      "text/html": [
       "<div>\n",
       "<style scoped>\n",
       "    .dataframe tbody tr th:only-of-type {\n",
       "        vertical-align: middle;\n",
       "    }\n",
       "\n",
       "    .dataframe tbody tr th {\n",
       "        vertical-align: top;\n",
       "    }\n",
       "\n",
       "    .dataframe thead th {\n",
       "        text-align: right;\n",
       "    }\n",
       "</style>\n",
       "<table border=\"1\" class=\"dataframe\">\n",
       "  <thead>\n",
       "    <tr style=\"text-align: right;\">\n",
       "      <th></th>\n",
       "      <th>taxon</th>\n",
       "      <th>lineage</th>\n",
       "      <th>count</th>\n",
       "    </tr>\n",
       "  </thead>\n",
       "  <tbody>\n",
       "    <tr>\n",
       "      <th>0</th>\n",
       "      <td>Guangzhou/GZMU0016/2020</td>\n",
       "      <td>A</td>\n",
       "      <td>1698</td>\n",
       "    </tr>\n",
       "    <tr>\n",
       "      <th>1</th>\n",
       "      <td>Beijing/Wuhan_IME-BJ07/2020</td>\n",
       "      <td>A</td>\n",
       "      <td>1698</td>\n",
       "    </tr>\n",
       "    <tr>\n",
       "      <th>2</th>\n",
       "      <td>Nanchang/JX90/2020</td>\n",
       "      <td>A</td>\n",
       "      <td>1698</td>\n",
       "    </tr>\n",
       "    <tr>\n",
       "      <th>3</th>\n",
       "      <td>USA/CA-CZB-1240/2020</td>\n",
       "      <td>A</td>\n",
       "      <td>1698</td>\n",
       "    </tr>\n",
       "    <tr>\n",
       "      <th>4</th>\n",
       "      <td>Nanchang/JX177/2020</td>\n",
       "      <td>A</td>\n",
       "      <td>1698</td>\n",
       "    </tr>\n",
       "    <tr>\n",
       "      <th>5</th>\n",
       "      <td>Guangdong/2020XN4273-P0036/2020</td>\n",
       "      <td>A</td>\n",
       "      <td>1698</td>\n",
       "    </tr>\n",
       "    <tr>\n",
       "      <th>6</th>\n",
       "      <td>South_Korea/KCDC05/2020</td>\n",
       "      <td>A</td>\n",
       "      <td>1698</td>\n",
       "    </tr>\n",
       "    <tr>\n",
       "      <th>7</th>\n",
       "      <td>South_Korea/KCDC2002/2020</td>\n",
       "      <td>A</td>\n",
       "      <td>1698</td>\n",
       "    </tr>\n",
       "    <tr>\n",
       "      <th>8</th>\n",
       "      <td>Beijing/BJ1112/2020</td>\n",
       "      <td>A</td>\n",
       "      <td>1698</td>\n",
       "    </tr>\n",
       "    <tr>\n",
       "      <th>9</th>\n",
       "      <td>South_Korea/KCDC2003/2020</td>\n",
       "      <td>A</td>\n",
       "      <td>1698</td>\n",
       "    </tr>\n",
       "  </tbody>\n",
       "</table>\n",
       "</div>"
      ],
      "text/plain": [
       "                             taxon lineage  count\n",
       "0          Guangzhou/GZMU0016/2020       A   1698\n",
       "1      Beijing/Wuhan_IME-BJ07/2020       A   1698\n",
       "2               Nanchang/JX90/2020       A   1698\n",
       "3             USA/CA-CZB-1240/2020       A   1698\n",
       "4              Nanchang/JX177/2020       A   1698\n",
       "5  Guangdong/2020XN4273-P0036/2020       A   1698\n",
       "6          South_Korea/KCDC05/2020       A   1698\n",
       "7        South_Korea/KCDC2002/2020       A   1698\n",
       "8              Beijing/BJ1112/2020       A   1698\n",
       "9        South_Korea/KCDC2003/2020       A   1698"
      ]
     },
     "execution_count": 57,
     "metadata": {},
     "output_type": "execute_result"
    }
   ],
   "source": [
    "filename = \"des_lineages.csv\"\n",
    "df=pandas.read_csv(filename)\n",
    "#read the file\n",
    "df['count'] = df.groupby('lineage')['lineage'].transform('count')\n",
    "#add sequences number count to the new column\n",
    "df.head(10)"
   ]
  },
  {
   "cell_type": "code",
   "execution_count": 39,
   "id": "26f4cc5b",
   "metadata": {},
   "outputs": [
    {
     "name": "stdout",
     "output_type": "stream",
     "text": [
      "221216\n",
      "1447\n",
      "1577\n"
     ]
    }
   ],
   "source": [
    "#locate the lineage with less than n sequences\n",
    "#df.groupby('lineage').count()\n",
    "\n",
    "\n",
    "sampletest=df.loc[df['count']<1092]\n",
    "print(len(sampletest))\n",
    "print(len(sampletest.groupby('lineage')))\n",
    "print(len(df.groupby('lineage')))\n"
   ]
  },
  {
   "cell_type": "code",
   "execution_count": 60,
   "id": "ec532bf9",
   "metadata": {},
   "outputs": [
    {
     "data": {
      "text/plain": [
       "13767"
      ]
     },
     "execution_count": 60,
     "metadata": {},
     "output_type": "execute_result"
    }
   ],
   "source": [
    "len(df.loc[df['lineage'].str.contains('AY.6')])"
   ]
  },
  {
   "cell_type": "code",
   "execution_count": 53,
   "id": "a6b754e2",
   "metadata": {},
   "outputs": [
    {
     "data": {
      "text/html": [
       "<div>\n",
       "<style scoped>\n",
       "    .dataframe tbody tr th:only-of-type {\n",
       "        vertical-align: middle;\n",
       "    }\n",
       "\n",
       "    .dataframe tbody tr th {\n",
       "        vertical-align: top;\n",
       "    }\n",
       "\n",
       "    .dataframe thead th {\n",
       "        text-align: right;\n",
       "    }\n",
       "</style>\n",
       "<table border=\"1\" class=\"dataframe\">\n",
       "  <thead>\n",
       "    <tr style=\"text-align: right;\">\n",
       "      <th></th>\n",
       "      <th>taxon</th>\n",
       "      <th>count</th>\n",
       "    </tr>\n",
       "    <tr>\n",
       "      <th>lineage</th>\n",
       "      <th></th>\n",
       "      <th></th>\n",
       "    </tr>\n",
       "  </thead>\n",
       "  <tbody>\n",
       "    <tr>\n",
       "      <th>AY.11</th>\n",
       "      <td>522</td>\n",
       "      <td>522</td>\n",
       "    </tr>\n",
       "    <tr>\n",
       "      <th>AY.30</th>\n",
       "      <td>525</td>\n",
       "      <td>525</td>\n",
       "    </tr>\n",
       "    <tr>\n",
       "      <th>AY.34.2</th>\n",
       "      <td>573</td>\n",
       "      <td>573</td>\n",
       "    </tr>\n",
       "    <tr>\n",
       "      <th>AY.35</th>\n",
       "      <td>574</td>\n",
       "      <td>574</td>\n",
       "    </tr>\n",
       "    <tr>\n",
       "      <th>AY.40</th>\n",
       "      <td>529</td>\n",
       "      <td>529</td>\n",
       "    </tr>\n",
       "    <tr>\n",
       "      <th>AY.43.2</th>\n",
       "      <td>530</td>\n",
       "      <td>530</td>\n",
       "    </tr>\n",
       "    <tr>\n",
       "      <th>AY.57</th>\n",
       "      <td>527</td>\n",
       "      <td>527</td>\n",
       "    </tr>\n",
       "    <tr>\n",
       "      <th>AY.58</th>\n",
       "      <td>512</td>\n",
       "      <td>512</td>\n",
       "    </tr>\n",
       "    <tr>\n",
       "      <th>AY.60</th>\n",
       "      <td>587</td>\n",
       "      <td>587</td>\n",
       "    </tr>\n",
       "    <tr>\n",
       "      <th>AY.62</th>\n",
       "      <td>550</td>\n",
       "      <td>550</td>\n",
       "    </tr>\n",
       "    <tr>\n",
       "      <th>AY.73</th>\n",
       "      <td>517</td>\n",
       "      <td>517</td>\n",
       "    </tr>\n",
       "    <tr>\n",
       "      <th>AY.91</th>\n",
       "      <td>563</td>\n",
       "      <td>563</td>\n",
       "    </tr>\n",
       "    <tr>\n",
       "      <th>B.1.1.10</th>\n",
       "      <td>538</td>\n",
       "      <td>538</td>\n",
       "    </tr>\n",
       "    <tr>\n",
       "      <th>B.1.1.279</th>\n",
       "      <td>544</td>\n",
       "      <td>544</td>\n",
       "    </tr>\n",
       "    <tr>\n",
       "      <th>B.1.1.301</th>\n",
       "      <td>521</td>\n",
       "      <td>521</td>\n",
       "    </tr>\n",
       "    <tr>\n",
       "      <th>B.1.160.16</th>\n",
       "      <td>508</td>\n",
       "      <td>508</td>\n",
       "    </tr>\n",
       "    <tr>\n",
       "      <th>B.1.160.17</th>\n",
       "      <td>504</td>\n",
       "      <td>504</td>\n",
       "    </tr>\n",
       "    <tr>\n",
       "      <th>B.1.160.8</th>\n",
       "      <td>507</td>\n",
       "      <td>507</td>\n",
       "    </tr>\n",
       "    <tr>\n",
       "      <th>B.1.177.18</th>\n",
       "      <td>513</td>\n",
       "      <td>513</td>\n",
       "    </tr>\n",
       "    <tr>\n",
       "      <th>B.1.177.5</th>\n",
       "      <td>508</td>\n",
       "      <td>508</td>\n",
       "    </tr>\n",
       "    <tr>\n",
       "      <th>B.1.177.6</th>\n",
       "      <td>590</td>\n",
       "      <td>590</td>\n",
       "    </tr>\n",
       "    <tr>\n",
       "      <th>B.1.22</th>\n",
       "      <td>591</td>\n",
       "      <td>591</td>\n",
       "    </tr>\n",
       "    <tr>\n",
       "      <th>B.1.232</th>\n",
       "      <td>552</td>\n",
       "      <td>552</td>\n",
       "    </tr>\n",
       "    <tr>\n",
       "      <th>B.1.36.36</th>\n",
       "      <td>555</td>\n",
       "      <td>555</td>\n",
       "    </tr>\n",
       "    <tr>\n",
       "      <th>B.1.367</th>\n",
       "      <td>571</td>\n",
       "      <td>571</td>\n",
       "    </tr>\n",
       "    <tr>\n",
       "      <th>B.1.375</th>\n",
       "      <td>553</td>\n",
       "      <td>553</td>\n",
       "    </tr>\n",
       "    <tr>\n",
       "      <th>B.1.389</th>\n",
       "      <td>590</td>\n",
       "      <td>590</td>\n",
       "    </tr>\n",
       "    <tr>\n",
       "      <th>B.1.400</th>\n",
       "      <td>519</td>\n",
       "      <td>519</td>\n",
       "    </tr>\n",
       "    <tr>\n",
       "      <th>B.1.509</th>\n",
       "      <td>562</td>\n",
       "      <td>562</td>\n",
       "    </tr>\n",
       "    <tr>\n",
       "      <th>C.35</th>\n",
       "      <td>508</td>\n",
       "      <td>508</td>\n",
       "    </tr>\n",
       "    <tr>\n",
       "      <th>P.1.12</th>\n",
       "      <td>536</td>\n",
       "      <td>536</td>\n",
       "    </tr>\n",
       "    <tr>\n",
       "      <th>P.1.2</th>\n",
       "      <td>600</td>\n",
       "      <td>600</td>\n",
       "    </tr>\n",
       "    <tr>\n",
       "      <th>W.4</th>\n",
       "      <td>508</td>\n",
       "      <td>508</td>\n",
       "    </tr>\n",
       "  </tbody>\n",
       "</table>\n",
       "</div>"
      ],
      "text/plain": [
       "            taxon  count\n",
       "lineage                 \n",
       "AY.11         522    522\n",
       "AY.30         525    525\n",
       "AY.34.2       573    573\n",
       "AY.35         574    574\n",
       "AY.40         529    529\n",
       "AY.43.2       530    530\n",
       "AY.57         527    527\n",
       "AY.58         512    512\n",
       "AY.60         587    587\n",
       "AY.62         550    550\n",
       "AY.73         517    517\n",
       "AY.91         563    563\n",
       "B.1.1.10      538    538\n",
       "B.1.1.279     544    544\n",
       "B.1.1.301     521    521\n",
       "B.1.160.16    508    508\n",
       "B.1.160.17    504    504\n",
       "B.1.160.8     507    507\n",
       "B.1.177.18    513    513\n",
       "B.1.177.5     508    508\n",
       "B.1.177.6     590    590\n",
       "B.1.22        591    591\n",
       "B.1.232       552    552\n",
       "B.1.36.36     555    555\n",
       "B.1.367       571    571\n",
       "B.1.375       553    553\n",
       "B.1.389       590    590\n",
       "B.1.400       519    519\n",
       "B.1.509       562    562\n",
       "C.35          508    508\n",
       "P.1.12        536    536\n",
       "P.1.2         600    600\n",
       "W.4           508    508"
      ]
     },
     "execution_count": 53,
     "metadata": {},
     "output_type": "execute_result"
    }
   ],
   "source": [
    "countdf=df.groupby('lineage').count()\n",
    "countdf\n",
    "countdf.loc[(countdf['taxon']<=600) & (countdf['taxon']>=500)]"
   ]
  },
  {
   "cell_type": "markdown",
   "id": "9632bec7",
   "metadata": {},
   "source": [
    "The only lineage that only have 1 designated sequence so B.1.617"
   ]
  },
  {
   "cell_type": "code",
   "execution_count": 94,
   "id": "2c12743a",
   "metadata": {},
   "outputs": [
    {
     "data": {
      "text/html": [
       "<div>\n",
       "<style scoped>\n",
       "    .dataframe tbody tr th:only-of-type {\n",
       "        vertical-align: middle;\n",
       "    }\n",
       "\n",
       "    .dataframe tbody tr th {\n",
       "        vertical-align: top;\n",
       "    }\n",
       "\n",
       "    .dataframe thead th {\n",
       "        text-align: right;\n",
       "    }\n",
       "</style>\n",
       "<table border=\"1\" class=\"dataframe\">\n",
       "  <thead>\n",
       "    <tr style=\"text-align: right;\">\n",
       "      <th></th>\n",
       "      <th>taxon</th>\n",
       "      <th>lineage</th>\n",
       "      <th>count</th>\n",
       "    </tr>\n",
       "  </thead>\n",
       "  <tbody>\n",
       "    <tr>\n",
       "      <th>452030</th>\n",
       "      <td>India/MH-NCCS-P1162000180788/2021</td>\n",
       "      <td>B.1.617</td>\n",
       "      <td>1</td>\n",
       "    </tr>\n",
       "  </tbody>\n",
       "</table>\n",
       "</div>"
      ],
      "text/plain": [
       "                                    taxon  lineage  count\n",
       "452030  India/MH-NCCS-P1162000180788/2021  B.1.617      1"
      ]
     },
     "execution_count": 94,
     "metadata": {},
     "output_type": "execute_result"
    }
   ],
   "source": [
    "import pandas\n",
    "newdf=df.copy()\n",
    "#copy the original df, so no risk to damage the original data\n",
    "\n",
    "newdf=newdf.drop(labels=452030, axis=0)\n",
    "#deleted b61617 using its index number\n",
    "\n",
    "newdes_sample=newdf.groupby(\"lineage\").sample(n=3)\n",
    "#sample 3 sequences in each lineage\n",
    "\n",
    "newdes_sample=newdes_sample.append(df.loc[df['count']==1])\n",
    "#append b61617 back to the sampled df\n",
    "\n",
    "newdes_sample.loc[newdes_sample['count']==1]\n",
    "#check whether b61617 is in the new list"
   ]
  },
  {
   "cell_type": "code",
   "execution_count": 13,
   "id": "6803de47",
   "metadata": {},
   "outputs": [
    {
     "name": "stdout",
     "output_type": "stream",
     "text": [
      "[434748, 434749, 434750, 452030]\n"
     ]
    }
   ],
   "source": [
    "slist=list(df.loc[df['count']<4].index.values)\n",
    "print(slist)\n"
   ]
  },
  {
   "cell_type": "code",
   "execution_count": 44,
   "id": "55b5d4dd",
   "metadata": {},
   "outputs": [
    {
     "ename": "NameError",
     "evalue": "name 'new_sample' is not defined",
     "output_type": "error",
     "traceback": [
      "\u001b[0;31m---------------------------------------------------------------------------\u001b[0m",
      "\u001b[0;31mNameError\u001b[0m                                 Traceback (most recent call last)",
      "\u001b[0;32m/var/folders/dj/d7gp2st508n6rwfhg_sr1gxm0000gn/T/ipykernel_3187/2092541804.py\u001b[0m in \u001b[0;36m<module>\u001b[0;34m\u001b[0m\n\u001b[1;32m     15\u001b[0m         \u001b[0mprint\u001b[0m\u001b[0;34m(\u001b[0m\u001b[0md_finalsample\u001b[0m\u001b[0;34m)\u001b[0m\u001b[0;34m\u001b[0m\u001b[0;34m\u001b[0m\u001b[0m\n\u001b[1;32m     16\u001b[0m \u001b[0;34m\u001b[0m\u001b[0m\n\u001b[0;32m---> 17\u001b[0;31m \u001b[0mnewsample\u001b[0m\u001b[0;34m=\u001b[0m\u001b[0mrandraw\u001b[0m\u001b[0;34m(\u001b[0m\u001b[0;36m3\u001b[0m\u001b[0;34m)\u001b[0m\u001b[0;34m\u001b[0m\u001b[0;34m\u001b[0m\u001b[0m\n\u001b[0m\u001b[1;32m     18\u001b[0m \u001b[0;34m\u001b[0m\u001b[0m\n\u001b[1;32m     19\u001b[0m \u001b[0mnewsample\u001b[0m\u001b[0;34m.\u001b[0m\u001b[0mloc\u001b[0m\u001b[0;34m[\u001b[0m\u001b[0mnewsample\u001b[0m\u001b[0;34m[\u001b[0m\u001b[0;34m'count'\u001b[0m\u001b[0;34m]\u001b[0m\u001b[0;34m==\u001b[0m\u001b[0;36m3\u001b[0m\u001b[0;34m]\u001b[0m\u001b[0;34m\u001b[0m\u001b[0;34m\u001b[0m\u001b[0m\n",
      "\u001b[0;32m/var/folders/dj/d7gp2st508n6rwfhg_sr1gxm0000gn/T/ipykernel_3187/2092541804.py\u001b[0m in \u001b[0;36mrandraw\u001b[0;34m(a)\u001b[0m\n\u001b[1;32m      9\u001b[0m     \u001b[0mnewdes_sample\u001b[0m\u001b[0;34m=\u001b[0m\u001b[0mnewdes_sample\u001b[0m\u001b[0;34m.\u001b[0m\u001b[0mappend\u001b[0m\u001b[0;34m(\u001b[0m\u001b[0mdf\u001b[0m\u001b[0;34m.\u001b[0m\u001b[0mloc\u001b[0m\u001b[0;34m[\u001b[0m\u001b[0mdf\u001b[0m\u001b[0;34m[\u001b[0m\u001b[0;34m'count'\u001b[0m\u001b[0;34m]\u001b[0m\u001b[0;34m<\u001b[0m\u001b[0ma\u001b[0m\u001b[0;34m]\u001b[0m\u001b[0;34m)\u001b[0m\u001b[0;34m\u001b[0m\u001b[0;34m\u001b[0m\u001b[0m\n\u001b[1;32m     10\u001b[0m     \u001b[0;31m#return newdes_sample\u001b[0m\u001b[0;34m\u001b[0m\u001b[0;34m\u001b[0m\u001b[0;34m\u001b[0m\u001b[0m\n\u001b[0;32m---> 11\u001b[0;31m     \u001b[0mdlist\u001b[0m\u001b[0;34m=\u001b[0m\u001b[0mnew_sample\u001b[0m\u001b[0;34m[\u001b[0m\u001b[0;34m'taxon'\u001b[0m\u001b[0;34m]\u001b[0m\u001b[0;34m.\u001b[0m\u001b[0mtolist\u001b[0m\u001b[0;34m(\u001b[0m\u001b[0;34m)\u001b[0m\u001b[0;34m\u001b[0m\u001b[0;34m\u001b[0m\u001b[0m\n\u001b[0m\u001b[1;32m     12\u001b[0m     \u001b[0md_dict\u001b[0m\u001b[0;34m=\u001b[0m\u001b[0mSeqIO\u001b[0m\u001b[0;34m.\u001b[0m\u001b[0mindex\u001b[0m\u001b[0;34m(\u001b[0m\u001b[0;34m'filename'\u001b[0m\u001b[0;34m,\u001b[0m\u001b[0;34m'fasta'\u001b[0m\u001b[0;34m)\u001b[0m\u001b[0;34m\u001b[0m\u001b[0;34m\u001b[0m\u001b[0m\n\u001b[1;32m     13\u001b[0m     \u001b[0;32mfor\u001b[0m \u001b[0md_ids\u001b[0m \u001b[0;32min\u001b[0m \u001b[0mdlist\u001b[0m\u001b[0;34m:\u001b[0m\u001b[0;34m\u001b[0m\u001b[0;34m\u001b[0m\u001b[0m\n",
      "\u001b[0;31mNameError\u001b[0m: name 'new_sample' is not defined"
     ]
    }
   ],
   "source": [
    "#write a function for random drawing one parameters\n",
    "def randraw(a):\n",
    "    filename = \"des_lineages.csv\"\n",
    "    df=pandas.read_csv(filename)\n",
    "    df['count'] = df.groupby('lineage')['lineage'].transform('count')\n",
    "    newdf=df.copy()\n",
    "    newdf=df.drop(df.loc[df['count']<a].index)\n",
    "    newdes_sample=newdf.groupby(\"lineage\").sample(n=a)\n",
    "    newdes_sample=newdes_sample.append(df.loc[df['count']<a])\n",
    "    #return newdes_sample\n",
    "    dlist=new_sample['taxon'].tolist()\n",
    "    d_dict=SeqIO.index('filename','fasta')    \n",
    "    for d_ids in dlist:\n",
    "        d_finalsample=d_dict[d_ids]\n",
    "        print(d_finalsample)\n",
    "\n",
    "newsample=randraw(3)\n",
    "\n",
    "newsample.loc[newsample['count']==3]\n",
    "#to check if it works\n"
   ]
  },
  {
   "cell_type": "code",
   "execution_count": 11,
   "id": "f89d1ffd",
   "metadata": {},
   "outputs": [],
   "source": [
    "def ddraw():\n",
    "    dlist=newsample['taxon'].tolist()\n",
    "    d_dict=SeqIO.index('filename','fasta')    \n",
    "    for d_ids in dlist:\n",
    "        d_finalsample=d_dict[d_ids]\n",
    "        print(d_finalsample)\n",
    "    \n"
   ]
  },
  {
   "cell_type": "code",
   "execution_count": 95,
   "id": "5f08b1e7",
   "metadata": {},
   "outputs": [],
   "source": [
    "newdes_sample.to_csv('newdes_sample.csv')\n",
    "#converted to csv so I can sent to Rachel"
   ]
  },
  {
   "cell_type": "code",
   "execution_count": 97,
   "id": "b24e455a",
   "metadata": {},
   "outputs": [
    {
     "name": "stdout",
     "output_type": "stream",
     "text": [
      "                                        taxon  lineage  count\n",
      "117            United_Arab_Emirates/0020/2020        A   1698\n",
      "156     United_Arab_Emirates/L3290220847/2020        A   1698\n",
      "1040                     Canada/AB-55631/2020        A   1698\n",
      "2157                      USA/HI-H200011/2020      A.1   2699\n",
      "2005                  England/PHEC-1DAF3/2020      A.1   2699\n",
      "...                                       ...      ...    ...\n",
      "448776                   Portugal/PT2686/2021      Y.1     61\n",
      "448944                 Wales/ALDP-C3B3CB/2020      Z.1    156\n",
      "448858                 Wales/PHWC-49C111/2020      Z.1    156\n",
      "448885                 Wales/PHWC-4B5464/2021      Z.1    156\n",
      "452030      India/MH-NCCS-P1162000180788/2021  B.1.617      1\n",
      "\n",
      "[4729 rows x 3 columns]\n"
     ]
    }
   ],
   "source": [
    "print(newdes_sample)"
   ]
  },
  {
   "cell_type": "code",
   "execution_count": 101,
   "id": "19162b9b",
   "metadata": {},
   "outputs": [
    {
     "name": "stdout",
     "output_type": "stream",
     "text": [
      "4729\n"
     ]
    }
   ],
   "source": [
    "import csv\n",
    "file = open(\"newdes_sample.csv\")\n",
    "reader = csv.reader(file)\n",
    "lines= len(list(reader))\n",
    "print(lines-1)\n",
    "\n",
    "#check how many samples names we got atm"
   ]
  },
  {
   "cell_type": "markdown",
   "id": "b5f69342",
   "metadata": {},
   "source": [
    "Now start to deal with a small GISAID dataset"
   ]
  },
  {
   "cell_type": "code",
   "execution_count": 42,
   "id": "50d48a17",
   "metadata": {},
   "outputs": [
    {
     "data": {
      "text/plain": [
       "3"
      ]
     },
     "execution_count": 42,
     "metadata": {},
     "output_type": "execute_result"
    }
   ],
   "source": [
    "\n",
    "with open('gisaid_scot.fasta')as g:\n",
    "    gseq=SeqIO.parse(g,'fasta')\n",
    "    gsample=sample(list(gseq),3)\n",
    "    #print(gsample)\n",
    "SeqIO.write(gsample, 'gsample.fasta',\"fasta\")\n",
    "\n",
    "#that might load the whole file into the memory, which will be fine if we are dealing with a samller file\n",
    "#but not so if we are going to load the whole DISAID data in "
   ]
  },
  {
   "cell_type": "code",
   "execution_count": 89,
   "id": "4c060881",
   "metadata": {},
   "outputs": [
    {
     "name": "stdout",
     "output_type": "stream",
     "text": [
      "ID: hCoV-19/Scotland/QEUH-2FED22C/2021|EPI_ISL_8276102|2021-12-26\n",
      "Name: hCoV-19/Scotland/QEUH-2FED22C/2021|EPI_ISL_8276102|2021-12-26\n",
      "Description: hCoV-19/Scotland/QEUH-2FED22C/2021|EPI_ISL_8276102|2021-12-26\n",
      "Number of features: 0\n",
      "Seq('TTGTAGATCTGTTCTCTAAACGAACTTTAAAATCTGTGTGGCTGTCACTCGGCT...GTA')\n",
      "ID: hCoV-19/Scotland/QEUH-2FD2002/2021|EPI_ISL_8278564|2021-12-22\n",
      "Name: hCoV-19/Scotland/QEUH-2FD2002/2021|EPI_ISL_8278564|2021-12-22\n",
      "Description: hCoV-19/Scotland/QEUH-2FD2002/2021|EPI_ISL_8278564|2021-12-22\n",
      "Number of features: 0\n",
      "Seq('TTGTAGATCTGTTCTCTAAACGAACTTTAAAATCTGTGTGGCTGTCACTCGGCT...GTA')\n",
      "ID: hCoV-19/Scotland/QEUH-2FD1EBE/2021|EPI_ISL_8278617|2021-12-22\n",
      "Name: hCoV-19/Scotland/QEUH-2FD1EBE/2021|EPI_ISL_8278617|2021-12-22\n",
      "Description: hCoV-19/Scotland/QEUH-2FD1EBE/2021|EPI_ISL_8278617|2021-12-22\n",
      "Number of features: 0\n",
      "Seq('TTGTAGATCTGTTCTCTAAACGAACTTTAAAATCTGTGTGGCTGTCACTCGGCT...GTA')\n"
     ]
    }
   ],
   "source": [
    "idlist=[]\n",
    "for gseq in SeqIO.parse('gisaid_scot.fasta','fasta'):\n",
    "    g_id=gseq.id\n",
    "    idlist.append(str(g_id))\n",
    "idsample=sample(idlist,3)\n",
    "#print(idsample)\n",
    "\n",
    "g_dict=SeqIO.index('gisaid_scot.fasta','fasta')\n",
    "for ids in idsample:\n",
    "    finalsample=g_dict[ids]\n",
    "    print(finalsample)"
   ]
  },
  {
   "cell_type": "code",
   "execution_count": 121,
   "id": "9e91bdd1",
   "metadata": {},
   "outputs": [
    {
     "name": "stdout",
     "output_type": "stream",
     "text": [
      "ID: hCoV-19/Scotland/QEUH-2FCF6E8/2021|EPI_ISL_8278207|2021-12-21\n",
      "Name: hCoV-19/Scotland/QEUH-2FCF6E8/2021|EPI_ISL_8278207|2021-12-21\n",
      "Description: hCoV-19/Scotland/QEUH-2FCF6E8/2021|EPI_ISL_8278207|2021-12-21\n",
      "Number of features: 0\n",
      "Seq('TTGTAGATCTGTTCTCTAAACGAACTTTAAAATCTGTGTGGCTGTCACTCGGCT...GTA')\n",
      "ID: hCoV-19/Scotland/QEUH-2FD6A2E/2021|EPI_ISL_8278777|2021-12-22\n",
      "Name: hCoV-19/Scotland/QEUH-2FD6A2E/2021|EPI_ISL_8278777|2021-12-22\n",
      "Description: hCoV-19/Scotland/QEUH-2FD6A2E/2021|EPI_ISL_8278777|2021-12-22\n",
      "Number of features: 0\n",
      "Seq('TTGTAGATCTGTTCTCTAAACGAACTTTAAAATCTGTGTGGCTGTCACTCGGCT...GTA')\n",
      "ID: hCoV-19/Scotland/QEUH-2FD6B76/2021|EPI_ISL_8278927|2021-12-22\n",
      "Name: hCoV-19/Scotland/QEUH-2FD6B76/2021|EPI_ISL_8278927|2021-12-22\n",
      "Description: hCoV-19/Scotland/QEUH-2FD6B76/2021|EPI_ISL_8278927|2021-12-22\n",
      "Number of features: 0\n",
      "Seq('TTGTAGATCTGTTCTCTAAACGAACTTTAAAATCTGTGTGGCTGTCACTCGGCT...GTA')\n",
      "ID: hCoV-19/Scotland/QEUH-2FD74B6/2021|EPI_ISL_8279811|2021-12-22\n",
      "Name: hCoV-19/Scotland/QEUH-2FD74B6/2021|EPI_ISL_8279811|2021-12-22\n",
      "Description: hCoV-19/Scotland/QEUH-2FD74B6/2021|EPI_ISL_8279811|2021-12-22\n",
      "Number of features: 0\n",
      "Seq('TTGTAGATCTGTTCTCTAAACGAACTTTAAAATCTGTGTGGCTGTCACTCGGCT...AGT')\n"
     ]
    }
   ],
   "source": [
    "#Function for random drawing sequence in for GISAID data base\n",
    "    \n",
    "\n",
    "def grandraw (x):#x = samplesize\n",
    "    idlist=[]\n",
    "    for gseq in SeqIO.parse('gisaid_scot.fasta','fasta'):\n",
    "        g_id=gseq.id\n",
    "        idlist.append(str(g_id))\n",
    "    idsample=sample(idlist,x)\n",
    "    \n",
    "    g_dict=SeqIO.index('gisaid_scot.fasta','fasta')    \n",
    "    for ids in idsample:\n",
    "        finalsample=g_dict[ids]\n",
    "        print(finalsample)\n",
    "    \n",
    "\n",
    "grandraw(4) \n",
    "#print(newgsample)"
   ]
  },
  {
   "cell_type": "markdown",
   "id": "97e29630",
   "metadata": {},
   "source": [
    "Try to unzip the big file"
   ]
  },
  {
   "cell_type": "code",
   "execution_count": 26,
   "id": "3732ff93",
   "metadata": {},
   "outputs": [
    {
     "name": "stdout",
     "output_type": "stream",
     "text": [
      "{'England/PHWC-PYIH14/2021', 'England/PHWC-PYIHFI/2021', 'England/PHWC-PYIHPF/2021', 'England/PHWC-PYIHXB/2021'}\n",
      "ID: England/PHWC-PYIH14/2021\n",
      "Name: England/PHWC-PYIH14/2021\n",
      "Description: England/PHWC-PYIH14/2021\n",
      "Number of features: 0\n",
      "Seq('NNNNNNNNNNNNNNNNNNNNNNNNNNNNNNNNNNNNNNNNNNNNNNNNNNNNNN...NNN')\n",
      "ID: England/PHWC-PYIHFI/2021\n",
      "Name: England/PHWC-PYIHFI/2021\n",
      "Description: England/PHWC-PYIHFI/2021\n",
      "Number of features: 0\n",
      "Seq('NNNNNNNNNNNNNNNNNNNNNNNNNNNNNNNNNNNNNNNNNNNNNNNNNNNNNN...NNN')\n",
      "ID: England/PHWC-PYIHPF/2021\n",
      "Name: England/PHWC-PYIHPF/2021\n",
      "Description: England/PHWC-PYIHPF/2021\n",
      "Number of features: 0\n",
      "Seq('NNNNNNNNNNNNNNNNNNNNNNNNNNNNNNNNNNNNNNNNNNNNNNNNNNNNNN...NNN')\n",
      "ID: England/PHWC-PYIHXB/2021\n",
      "Name: England/PHWC-PYIHXB/2021\n",
      "Description: England/PHWC-PYIHXB/2021\n",
      "Number of features: 0\n",
      "Seq('NNNNNNNNNNNNNNNNNNNNNNNNNNNNNNNNNNNNNNNNNNNNNNNNNNNNNN...NNN')\n"
     ]
    }
   ],
   "source": [
    "import gzip\n",
    "count = 0\n",
    "with gzip.open(\"bigfile.fa.gz\", \"rt\") as handle:\n",
    "    gisaid_sample_list=[]\n",
    "    for record in SeqIO.parse(handle, \"fasta\"):\n",
    "        sum_id=record.id\n",
    "        gisaid_sample_list.append(str(sum_id))\n",
    "        count += 1\n",
    "        if count > 30:\n",
    "            break\n",
    "    \n",
    "    gisaid_sample=sample(gisaid_sample_list,4)\n",
    "    gisaid_sample_set=set(gisaid_sample)\n",
    "    print(gisaid_sample_set)\n",
    "    \n",
    "    count=0\n",
    "with gzip.open(\"bigfile.fa.gz\", \"rt\") as handle:\n",
    "    for record in SeqIO.parse(handle, \"fasta\"):\n",
    "        if record.id in gisaid_sample_set:\n",
    "            print(record)\n",
    "        count+=1\n",
    "        if count > 30:\n",
    "            break\n",
    "      \n",
    "    "
   ]
  },
  {
   "cell_type": "code",
   "execution_count": 2,
   "id": "d216c7d9",
   "metadata": {},
   "outputs": [],
   "source": [
    "\n",
    "import gzip\n",
    "def random_draw_from_des(sample_limit):\n",
    "    \n",
    "    filename = \"des_lineages.csv\"\n",
    "    df=pandas.read_csv(filename)\n",
    "    df['count'] = df.groupby('lineage')['lineage'].transform('count')\n",
    "    newdf=df.copy()\n",
    "    newdf=df.drop(df.loc[df['count']<sample_limit].index)\n",
    "    #print(newdf)\n",
    "    newdes_sample=newdf.groupby(\"lineage\").sample(n=sample_limit)\n",
    "    newdes_sample=newdes_sample.append(df.loc[df['count']<sample_limit])\n",
    "    dlist=newdes_sample['taxon'].tolist()\n",
    "    dset=set(dlist)\n",
    "    return dset\n",
    "des_sample_set= random_draw_from_des(3)\n",
    "#len(random_draw_from_des(3))#just to check the number of sample \n",
    "\n",
    "\n",
    "def random_draw_from_gisaid(sample_size):\n",
    "   \n",
    "    with gzip.open(\"bigfile.fa.gz\", \"rt\") as handle:\n",
    "        gisaid_sample_list=[]\n",
    "        for record in SeqIO.parse(handle, \"fasta\"):\n",
    "            sum_id=record.id\n",
    "            gisaid_sample_list.append(str(sum_id))\n",
    "            \n",
    "    \n",
    "    gisaid_sample=sample(gisaid_sample_list,sample_size)\n",
    "    gset=set(gisaid_sample)\n",
    "    return gset\n",
    "\n",
    "def draw_sequence_from(dataset,outfile):\n",
    "\n",
    "    dataset=set(dataset)\n",
    "    out_handle = open(outfile,'w')\n",
    "    with gzip.open(\"bigfile.fa.gz\", \"rt\") as handle:\n",
    "        for record in SeqIO.parse(handle, \"fasta\"):\n",
    "            if record.id in dataset:\n",
    "                SeqIO.write(record, out_handle, \"fasta\")\n",
    "                dataset.remove(record.id)\n",
    "            \n",
    "        \n",
    "\n",
    "gisaid_sample_set=random_draw_from_gisaid(250000)               \n",
    "draw_sequence_from(gisaid_sample_set,'gisaid_big_file.fa')\n",
    "\n",
    "#des_sample_set= random_draw_from_des(250000)\n",
    "#draw_sequence_from(des_sample_set,'des_bigfile.fa')\n"
   ]
  },
  {
   "cell_type": "code",
   "execution_count": 36,
   "id": "f940846c",
   "metadata": {},
   "outputs": [
    {
     "data": {
      "text/plain": [
       "7877"
      ]
     },
     "execution_count": 36,
     "metadata": {},
     "output_type": "execute_result"
    }
   ],
   "source": [
    "def random_draw_from_des(sample_limit):\n",
    "    \n",
    "    filename = \"des_lineages.csv\"\n",
    "    df=pandas.read_csv(filename)\n",
    "    df['count'] = df.groupby('lineage')['lineage'].transform('count')\n",
    "    newdf=df.copy()\n",
    "    newdf=df.drop(df.loc[df['count']<sample_limit].index)\n",
    "    #print(newdf)\n",
    "    newdes_sample=newdf.groupby(\"lineage\").sample(n=sample_limit)\n",
    "    newdes_sample=newdes_sample.append(df.loc[df['count']<sample_limit])\n",
    "    dlist=newdes_sample['taxon'].tolist()\n",
    "    dset=set(dlist)\n",
    "    return dset\n",
    "len(random_draw_from_des(500))"
   ]
  }
 ],
 "metadata": {
  "kernelspec": {
   "display_name": "Python 3 (ipykernel)",
   "language": "python",
   "name": "python3"
  },
  "language_info": {
   "codemirror_mode": {
    "name": "ipython",
    "version": 3
   },
   "file_extension": ".py",
   "mimetype": "text/x-python",
   "name": "python",
   "nbconvert_exporter": "python",
   "pygments_lexer": "ipython3",
   "version": "3.9.5"
  }
 },
 "nbformat": 4,
 "nbformat_minor": 5
}
